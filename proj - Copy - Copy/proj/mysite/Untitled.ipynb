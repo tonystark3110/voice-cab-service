{
 "cells": [
  {
   "cell_type": "code",
   "execution_count": 2,
   "id": "b81063fc",
   "metadata": {},
   "outputs": [],
   "source": [
    "from pynput.keyboard import Key, Controller\n",
    "import time\n",
    "keyboard = Controller()\n",
    "from selenium import webdriver\n",
    "from selenium.webdriver.common.keys import Keys\n",
    "from selenium.webdriver.common.by import By"
   ]
  },
  {
   "cell_type": "code",
   "execution_count": 13,
   "id": "0192d7dd",
   "metadata": {},
   "outputs": [],
   "source": [
    "time.sleep(3)\n",
    "Num =  '7460021388'\n",
    "keyboard.type(Num)"
   ]
  },
  {
   "cell_type": "code",
   "execution_count": 40,
   "id": "b576ad34",
   "metadata": {},
   "outputs": [
    {
     "name": "stderr",
     "output_type": "stream",
     "text": [
      "C:\\Users\\MANIKA~1\\AppData\\Local\\Temp/ipykernel_26648/2900709161.py:8: DeprecationWarning: executable_path has been deprecated, please pass in a Service object\n",
      "  driver = webdriver.Chrome(executable_path=r\"C:\\\\Users\\\\Manikandan\\\\Downloads\\\\chromedriver_win32\\\\chromedriver.exe\", options=chrome_options)\n"
     ]
    }
   ],
   "source": [
    "chrome_options = webdriver.ChromeOptions()\n",
    "prefs = {\"profile.default_content_setting_values.notifications\" : 1}\n",
    "chrome_options.add_experimental_option(\"prefs\",prefs)\n",
    "chrome_options.add_experimental_option(\"excludeSwitches\", [\"enable-automation\"])\n",
    "chrome_options.add_experimental_option('useAutomationExtension', False)\n",
    "chrome_options.add_argument(\"--disable-blink-features=AutomationControlled\")\n",
    "# chrome_options.add_argument(\"--incognito\")\n",
    "driver = webdriver.Chrome(executable_path=r\"C:\\\\Users\\\\Manikandan\\\\Downloads\\\\chromedriver_win32\\\\chromedriver.exe\", options=chrome_options)\n",
    "driver.get(url=\"https://book.olacabs.com/?pickup_name=20%2F20%2C%20Royapettah%2C%20Chennai&lat=13.0547712&lng=80.2717696&pickup=\")\n",
    "driver.maximize_window()"
   ]
  },
  {
   "cell_type": "code",
   "execution_count": 14,
   "id": "93a7cc89",
   "metadata": {},
   "outputs": [
    {
     "name": "stderr",
     "output_type": "stream",
     "text": [
      "C:\\Users\\MANIKA~1\\AppData\\Local\\Temp/ipykernel_14456/302274044.py:1: DeprecationWarning: find_element_by_* commands are deprecated. Please use find_element() instead\n",
      "  driver.find_element_by_tag_name('body').send_keys(Keys.ENTER)\n"
     ]
    }
   ],
   "source": []
  },
  {
   "cell_type": "code",
   "execution_count": 16,
   "id": "19377d38",
   "metadata": {},
   "outputs": [],
   "source": [
    "\n",
    "# driver.get('https://book.olacabs.com/login?pickup_name=20%2F20%2C%20Royapettah%2C%20Chennai&lat=13.0547712&lng=80.2717696&pickup=')\n",
    "time.sleep(3)\n",
    "Num =  '7460021388'\n",
    "keyboard.type(Num)\n",
    "time.sleep(3)\n",
    "keyboard.press(Key.enter)\n",
    "keyboard.release(Key.enter)"
   ]
  },
  {
   "cell_type": "code",
   "execution_count": 28,
   "id": "14ce275c",
   "metadata": {
    "scrolled": true
   },
   "outputs": [],
   "source": [
    "myadress=\"'marina beeech'\"\n",
    "inputadress=\"document.querySelector('ola-app').shadowRoot.querySelector('ola-modal').shadowRoot.querySelector('ola-location').shadowRoot.querySelector('div.locations-container').querySelector('#addressInput').value=\"+myadress\n",
    "driver.execute_script(inputadress)"
   ]
  },
  {
   "cell_type": "code",
   "execution_count": 41,
   "id": "2a21cbfa",
   "metadata": {
    "scrolled": true
   },
   "outputs": [
    {
     "name": "stdout",
     "output_type": "stream",
     "text": [
      "None\n"
     ]
    }
   ],
   "source": [
    "time.sleep(3)\n",
    "driver.execute_script(\"document.querySelector('ola-app').shadowRoot.querySelector('iron-pages').querySelector('ola-home').shadowRoot.querySelector('ola-location-input').shadowRoot.querySelector('div.right.h-full.text.value').click()\")\n",
    "time.sleep(3)\n",
    "driver.execute_script(\"document.querySelector('ola-app').shadowRoot.querySelector('ola-modal').shadowRoot.querySelector('ola-location').shadowRoot.querySelector('div.locations-container').querySelector('div.results-row > div > div > div.middle.text.value').click()\")\n",
    "time.sleep(3)\n",
    "driver.execute_script(\"document.querySelector('ola-app').shadowRoot.querySelector('ola-home').shadowRoot.querySelector('div.page-container.bg-light').querySelector('ola-home-local').shadowRoot.querySelector('ola-location-input').shadowRoot.querySelector('div.card.bg-dark.no-border').querySelector('div.right.h-full.text.placeholder').click()\")\n",
    "time.sleep(2)\n",
    "#inputadress=\"document.querySelector('ola-app').shadowRoot.querySelector('ola-modal').shadowRoot.querySelector('ola-location').shadowRoot.querySelector('div.locations-container').querySelector('#addressInput').value=\"+myadress\n",
    "daddr =  'Marina beach'\n",
    "keyboard.type(daddr)\n",
    "time.sleep(3)\n",
    "keyboard.press(Key.enter)\n",
    "keyboard.release(Key.enter)\n",
    "time.sleep(3)\n",
    "driver.execute_script(\"document.querySelector('ola-app').shadowRoot.querySelector('ola-modal').shadowRoot.querySelector('ola-location').shadowRoot.querySelector('div.locations-container').querySelector('div.results-row > div > div:nth-child(1)>div.middle.text').click()\")\n",
    "\n",
    "autoprice = driver.execute_script(\"document.querySelector('ola-app').shadowRoot.querySelector('ola-home').shadowRoot.querySelector('div.page-container.bg-light').querySelector('ola-home-local').shadowRoot.querySelector('div.cabs-list-section>ola-cabs').shadowRoot.querySelector('div.card.car-cont.bg-white.when-NOW').querySelector('div:nth-child(1) > div.middle > div.text.value.cab-name > span > span:nth-child(1)').innerText\")\n",
    "\n",
    "print(autoprice)\n",
    "\n",
    "driver.execute_script(\"document.querySelector('ola-app').shadowRoot.querySelector('ola-home').shadowRoot.querySelector('div.page-container.bg-light').querySelector('ola-home-local').shadowRoot.querySelector('div.cabs-list-section>ola-cabs').shadowRoot.querySelector('div.card.car-cont.bg-white.when-NOW').querySelector('div:nth-child(1) > div.middle > div.text.value.cab-name').click()\")\n",
    "time.sleep(3)\n",
    "driver.execute_script(\"document.querySelector('ola-app').shadowRoot.querySelector('ola-modal').shadowRoot.querySelector('ola-confirm-ride-p2p').shadowRoot.querySelector('div.footer > button').click()\")\n"
   ]
  },
  {
   "cell_type": "code",
   "execution_count": null,
   "id": "990669bd",
   "metadata": {},
   "outputs": [],
   "source": [
    "document.querySelector('ola-app').shadowRoot.querySelector('ola-home').shadowRoot.querySelector('div.page-container.bg-light').querySelector('ola-home-local').shadowRoot.querySelector('div.cabs-list-section>ola-cabs').shadowRoot.querySelector('div.card.car-cont.bg-white.when-NOW').querySelector('div:nth-child(1) > div.middle > div.text.value.cab-name > span > span:nth-child(1)')"
   ]
  },
  {
   "cell_type": "code",
   "execution_count": null,
   "id": "77b6b95d",
   "metadata": {},
   "outputs": [],
   "source": [
    "document.querySelector('ola-app').shadowRoot.querySelector('ola-home').shadowRoot.querySelector('div.page-container.bg-light').querySelector('ola-home-local').shadowRoot.querySelector('ola-location-input').shadowRoot.querySelector('div.card.bg-dark.no-border').querySelector('div >div.right.h-full.text.placeholder').click()"
   ]
  },
  {
   "cell_type": "code",
   "execution_count": 36,
   "id": "66914c5d",
   "metadata": {},
   "outputs": [
    {
     "ename": "JavascriptException",
     "evalue": "Message: javascript error: Unexpected token ')'\n  (Session info: chrome=104.0.5112.82)\nStacktrace:\nBacktrace:\n\tOrdinal0 [0x00FD78B3+2193587]\n\tOrdinal0 [0x00F70681+1771137]\n\tOrdinal0 [0x00E841A8+803240]\n\tOrdinal0 [0x00E86BB4+814004]\n\tOrdinal0 [0x00E86A72+813682]\n\tOrdinal0 [0x00E873EA+816106]\n\tOrdinal0 [0x00EDE519+1172761]\n\tOrdinal0 [0x00ECD7AC+1103788]\n\tOrdinal0 [0x00EDDAE2+1170146]\n\tOrdinal0 [0x00ECD5C6+1103302]\n\tOrdinal0 [0x00EA77E0+948192]\n\tOrdinal0 [0x00EA86E6+952038]\n\tGetHandleVerifier [0x01280CB2+2738370]\n\tGetHandleVerifier [0x012721B8+2678216]\n\tGetHandleVerifier [0x010617AA+512954]\n\tGetHandleVerifier [0x01060856+509030]\n\tOrdinal0 [0x00F7743B+1799227]\n\tOrdinal0 [0x00F7BB68+1817448]\n\tOrdinal0 [0x00F7BC55+1817685]\n\tOrdinal0 [0x00F85230+1856048]\n\tBaseThreadInitThunk [0x76026739+25]\n\tRtlGetFullPathName_UEx [0x77B890AF+1215]\n\tRtlGetFullPathName_UEx [0x77B8907D+1165]\n",
     "output_type": "error",
     "traceback": [
      "\u001b[1;31m---------------------------------------------------------------------------\u001b[0m",
      "\u001b[1;31mJavascriptException\u001b[0m                       Traceback (most recent call last)",
      "\u001b[1;32mC:\\Users\\MANIKA~1\\AppData\\Local\\Temp/ipykernel_26648/1015272618.py\u001b[0m in \u001b[0;36m<module>\u001b[1;34m\u001b[0m\n\u001b[1;32m----> 1\u001b[1;33m \u001b[0mdriver\u001b[0m\u001b[1;33m.\u001b[0m\u001b[0mexecute_script\u001b[0m\u001b[1;33m(\u001b[0m\u001b[1;34m\"'ola-home').shadowRoot.querySelector('ola-location-input').shadowRoot.querySelector('div.right.h-full.text.value').click()\"\u001b[0m\u001b[1;33m)\u001b[0m\u001b[1;33m\u001b[0m\u001b[1;33m\u001b[0m\u001b[0m\n\u001b[0m\u001b[0;32m      2\u001b[0m \u001b[1;33m\u001b[0m\u001b[0m\n\u001b[0;32m      3\u001b[0m \u001b[1;33m\u001b[0m\u001b[0m\n\u001b[0;32m      4\u001b[0m \u001b[0mssearch\u001b[0m \u001b[1;33m=\u001b[0m \u001b[0mdriver\u001b[0m\u001b[1;33m.\u001b[0m\u001b[0mfind_element\u001b[0m\u001b[1;33m(\u001b[0m\u001b[0mBy\u001b[0m\u001b[1;33m.\u001b[0m\u001b[0mXPATH\u001b[0m\u001b[1;33m,\u001b[0m \u001b[1;34m'/html/body/ola-app//iron-pages/ola-home//div[2]/ola-home-local//ola-location-input//div/div/div[3]'\u001b[0m\u001b[1;33m)\u001b[0m\u001b[1;33m\u001b[0m\u001b[1;33m\u001b[0m\u001b[0m\n\u001b[0;32m      5\u001b[0m \u001b[0mssearch\u001b[0m\u001b[1;33m.\u001b[0m\u001b[0mclick\u001b[0m\u001b[1;33m(\u001b[0m\u001b[1;33m)\u001b[0m\u001b[1;33m\u001b[0m\u001b[1;33m\u001b[0m\u001b[0m\n",
      "\u001b[1;32m~\\AppData\\Local\\Programs\\Python\\Python39\\lib\\site-packages\\selenium\\webdriver\\remote\\webdriver.py\u001b[0m in \u001b[0;36mexecute_script\u001b[1;34m(self, script, *args)\u001b[0m\n\u001b[0;32m    876\u001b[0m         \u001b[0mcommand\u001b[0m \u001b[1;33m=\u001b[0m \u001b[0mCommand\u001b[0m\u001b[1;33m.\u001b[0m\u001b[0mW3C_EXECUTE_SCRIPT\u001b[0m\u001b[1;33m\u001b[0m\u001b[1;33m\u001b[0m\u001b[0m\n\u001b[0;32m    877\u001b[0m \u001b[1;33m\u001b[0m\u001b[0m\n\u001b[1;32m--> 878\u001b[1;33m         return self.execute(command, {\n\u001b[0m\u001b[0;32m    879\u001b[0m             \u001b[1;34m'script'\u001b[0m\u001b[1;33m:\u001b[0m \u001b[0mscript\u001b[0m\u001b[1;33m,\u001b[0m\u001b[1;33m\u001b[0m\u001b[1;33m\u001b[0m\u001b[0m\n\u001b[0;32m    880\u001b[0m             'args': converted_args})['value']\n",
      "\u001b[1;32m~\\AppData\\Local\\Programs\\Python\\Python39\\lib\\site-packages\\selenium\\webdriver\\remote\\webdriver.py\u001b[0m in \u001b[0;36mexecute\u001b[1;34m(self, driver_command, params)\u001b[0m\n\u001b[0;32m    422\u001b[0m         \u001b[0mresponse\u001b[0m \u001b[1;33m=\u001b[0m \u001b[0mself\u001b[0m\u001b[1;33m.\u001b[0m\u001b[0mcommand_executor\u001b[0m\u001b[1;33m.\u001b[0m\u001b[0mexecute\u001b[0m\u001b[1;33m(\u001b[0m\u001b[0mdriver_command\u001b[0m\u001b[1;33m,\u001b[0m \u001b[0mparams\u001b[0m\u001b[1;33m)\u001b[0m\u001b[1;33m\u001b[0m\u001b[1;33m\u001b[0m\u001b[0m\n\u001b[0;32m    423\u001b[0m         \u001b[1;32mif\u001b[0m \u001b[0mresponse\u001b[0m\u001b[1;33m:\u001b[0m\u001b[1;33m\u001b[0m\u001b[1;33m\u001b[0m\u001b[0m\n\u001b[1;32m--> 424\u001b[1;33m             \u001b[0mself\u001b[0m\u001b[1;33m.\u001b[0m\u001b[0merror_handler\u001b[0m\u001b[1;33m.\u001b[0m\u001b[0mcheck_response\u001b[0m\u001b[1;33m(\u001b[0m\u001b[0mresponse\u001b[0m\u001b[1;33m)\u001b[0m\u001b[1;33m\u001b[0m\u001b[1;33m\u001b[0m\u001b[0m\n\u001b[0m\u001b[0;32m    425\u001b[0m             response['value'] = self._unwrap_value(\n\u001b[0;32m    426\u001b[0m                 response.get('value', None))\n",
      "\u001b[1;32m~\\AppData\\Local\\Programs\\Python\\Python39\\lib\\site-packages\\selenium\\webdriver\\remote\\errorhandler.py\u001b[0m in \u001b[0;36mcheck_response\u001b[1;34m(self, response)\u001b[0m\n\u001b[0;32m    245\u001b[0m                 \u001b[0malert_text\u001b[0m \u001b[1;33m=\u001b[0m \u001b[0mvalue\u001b[0m\u001b[1;33m[\u001b[0m\u001b[1;34m'alert'\u001b[0m\u001b[1;33m]\u001b[0m\u001b[1;33m.\u001b[0m\u001b[0mget\u001b[0m\u001b[1;33m(\u001b[0m\u001b[1;34m'text'\u001b[0m\u001b[1;33m)\u001b[0m\u001b[1;33m\u001b[0m\u001b[1;33m\u001b[0m\u001b[0m\n\u001b[0;32m    246\u001b[0m             \u001b[1;32mraise\u001b[0m \u001b[0mexception_class\u001b[0m\u001b[1;33m(\u001b[0m\u001b[0mmessage\u001b[0m\u001b[1;33m,\u001b[0m \u001b[0mscreen\u001b[0m\u001b[1;33m,\u001b[0m \u001b[0mstacktrace\u001b[0m\u001b[1;33m,\u001b[0m \u001b[0malert_text\u001b[0m\u001b[1;33m)\u001b[0m  \u001b[1;31m# type: ignore[call-arg]  # mypy is not smart enough here\u001b[0m\u001b[1;33m\u001b[0m\u001b[1;33m\u001b[0m\u001b[0m\n\u001b[1;32m--> 247\u001b[1;33m         \u001b[1;32mraise\u001b[0m \u001b[0mexception_class\u001b[0m\u001b[1;33m(\u001b[0m\u001b[0mmessage\u001b[0m\u001b[1;33m,\u001b[0m \u001b[0mscreen\u001b[0m\u001b[1;33m,\u001b[0m \u001b[0mstacktrace\u001b[0m\u001b[1;33m)\u001b[0m\u001b[1;33m\u001b[0m\u001b[1;33m\u001b[0m\u001b[0m\n\u001b[0m\u001b[0;32m    248\u001b[0m \u001b[1;33m\u001b[0m\u001b[0m\n\u001b[0;32m    249\u001b[0m     \u001b[1;32mdef\u001b[0m \u001b[0m_value_or_default\u001b[0m\u001b[1;33m(\u001b[0m\u001b[0mself\u001b[0m\u001b[1;33m,\u001b[0m \u001b[0mobj\u001b[0m\u001b[1;33m:\u001b[0m \u001b[0mMapping\u001b[0m\u001b[1;33m[\u001b[0m\u001b[0m_KT\u001b[0m\u001b[1;33m,\u001b[0m \u001b[0m_VT\u001b[0m\u001b[1;33m]\u001b[0m\u001b[1;33m,\u001b[0m \u001b[0mkey\u001b[0m\u001b[1;33m:\u001b[0m \u001b[0m_KT\u001b[0m\u001b[1;33m,\u001b[0m \u001b[0mdefault\u001b[0m\u001b[1;33m:\u001b[0m \u001b[0m_VT\u001b[0m\u001b[1;33m)\u001b[0m \u001b[1;33m->\u001b[0m \u001b[0m_VT\u001b[0m\u001b[1;33m:\u001b[0m\u001b[1;33m\u001b[0m\u001b[1;33m\u001b[0m\u001b[0m\n",
      "\u001b[1;31mJavascriptException\u001b[0m: Message: javascript error: Unexpected token ')'\n  (Session info: chrome=104.0.5112.82)\nStacktrace:\nBacktrace:\n\tOrdinal0 [0x00FD78B3+2193587]\n\tOrdinal0 [0x00F70681+1771137]\n\tOrdinal0 [0x00E841A8+803240]\n\tOrdinal0 [0x00E86BB4+814004]\n\tOrdinal0 [0x00E86A72+813682]\n\tOrdinal0 [0x00E873EA+816106]\n\tOrdinal0 [0x00EDE519+1172761]\n\tOrdinal0 [0x00ECD7AC+1103788]\n\tOrdinal0 [0x00EDDAE2+1170146]\n\tOrdinal0 [0x00ECD5C6+1103302]\n\tOrdinal0 [0x00EA77E0+948192]\n\tOrdinal0 [0x00EA86E6+952038]\n\tGetHandleVerifier [0x01280CB2+2738370]\n\tGetHandleVerifier [0x012721B8+2678216]\n\tGetHandleVerifier [0x010617AA+512954]\n\tGetHandleVerifier [0x01060856+509030]\n\tOrdinal0 [0x00F7743B+1799227]\n\tOrdinal0 [0x00F7BB68+1817448]\n\tOrdinal0 [0x00F7BC55+1817685]\n\tOrdinal0 [0x00F85230+1856048]\n\tBaseThreadInitThunk [0x76026739+25]\n\tRtlGetFullPathName_UEx [0x77B890AF+1215]\n\tRtlGetFullPathName_UEx [0x77B8907D+1165]\n"
     ]
    }
   ],
   "source": [
    "driver.execute_script(\"'ola-home').shadowRoot.querySelector('ola-location-input').shadowRoot.querySelector('div.right.h-full.text.value').click()\")\n",
    "\n",
    "\n",
    "ssearch = driver.find_element(By.XPATH, '/html/body/ola-app//iron-pages/ola-home//div[2]/ola-home-local//ola-location-input//div/div/div[3]')\n",
    "ssearch.click()\n",
    "ssearch = driver.find_element(By.XPATH, '//*[@id=\"addressInput\"]')\n",
    "ssearch.click()\n",
    "ssearch.send_keys(\"Delhi\")\n",
    "ssearch = driver.find_element(By.XPATH, '//*[@id=\"ow-location\"]/div[5]/div/div[1]')\n",
    "ssearch.click()\n",
    "ssearch = driver.find_element(By.XPATH, '/html/body/div/div/div[5]/button')\n",
    "ssearch.click()\n",
    "esearch = driver.find_element(By.XPATH, '/html/body/ola-app//iron-pages/ola-home//div[2]/ola-home-local//div/ola-cabs//div[2]/div[1]/div[2]/div[1]')\n",
    "fsearch = driver.find_element(By.XPATH, '/html/body/ola-app//iron-pages/ola-home//div[2]/ola-home-local//div/ola-cabs//div[2]/div[1]/div[2]/div[1]/span/span[1]')\n"
   ]
  },
  {
   "cell_type": "code",
   "execution_count": null,
   "id": "754371c8",
   "metadata": {},
   "outputs": [],
   "source": []
  }
 ],
 "metadata": {
  "kernelspec": {
   "display_name": "Python 3 (ipykernel)",
   "language": "python",
   "name": "python3"
  },
  "language_info": {
   "codemirror_mode": {
    "name": "ipython",
    "version": 3
   },
   "file_extension": ".py",
   "mimetype": "text/x-python",
   "name": "python",
   "nbconvert_exporter": "python",
   "pygments_lexer": "ipython3",
   "version": "3.9.8"
  }
 },
 "nbformat": 4,
 "nbformat_minor": 5
}
